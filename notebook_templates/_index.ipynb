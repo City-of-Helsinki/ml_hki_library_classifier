{
 "cells": [
  {
   "cell_type": "code",
   "execution_count": null,
   "metadata": {},
   "outputs": [
    {
     "data": {
      "application/javascript": [
       "\n",
       "            setTimeout(function() {\n",
       "                var nbb_cell_id = 1;\n",
       "                var nbb_unformatted_code = \"# lab_black if running in azure\\n#%load_ext lab_black\\n\\n# nb_black if running in jupyter\\n%load_ext nb_black\";\n",
       "                var nbb_formatted_code = \"# lab_black if running in azure\\n#%load_ext lab_black\\n\\n# nb_black if running in jupyter\\n%load_ext nb_black\";\n",
       "                var nbb_cells = Jupyter.notebook.get_cells();\n",
       "                for (var i = 0; i < nbb_cells.length; ++i) {\n",
       "                    if (nbb_cells[i].input_prompt_number == nbb_cell_id) {\n",
       "                        if (nbb_cells[i].get_text() == nbb_unformatted_code) {\n",
       "                             nbb_cells[i].set_text(nbb_formatted_code);\n",
       "                        }\n",
       "                        break;\n",
       "                    }\n",
       "                }\n",
       "            }, 500);\n",
       "            "
      ],
      "text/plain": [
       "<IPython.core.display.Javascript object>"
      ]
     },
     "metadata": {},
     "output_type": "display_data"
    }
   ],
   "source": [
    "# lab_black if running in azure\n",
    "#%load_ext lab_black\n",
    "\n",
    "# nb_black if running in jupyter\n",
    "%load_ext nb_black"
   ]
  },
  {
   "cell_type": "code",
   "execution_count": null,
   "metadata": {},
   "outputs": [
    {
     "data": {
      "application/javascript": [
       "\n",
       "            setTimeout(function() {\n",
       "                var nbb_cell_id = 2;\n",
       "                var nbb_unformatted_code = \"# hide\\n# from your_lib.core import *\\n# from ml-project-template.data import *\";\n",
       "                var nbb_formatted_code = \"# hide\\n# from your_lib.core import *\\n# from ml-project-template.data import *\";\n",
       "                var nbb_cells = Jupyter.notebook.get_cells();\n",
       "                for (var i = 0; i < nbb_cells.length; ++i) {\n",
       "                    if (nbb_cells[i].input_prompt_number == nbb_cell_id) {\n",
       "                        if (nbb_cells[i].get_text() == nbb_unformatted_code) {\n",
       "                             nbb_cells[i].set_text(nbb_formatted_code);\n",
       "                        }\n",
       "                        break;\n",
       "                    }\n",
       "                }\n",
       "            }, 500);\n",
       "            "
      ],
      "text/plain": [
       "<IPython.core.display.Javascript object>"
      ]
     },
     "metadata": {},
     "output_type": "display_data"
    }
   ],
   "source": [
    "# hide\n",
    "# from your_lib.core import *\n",
    "# from ml-project-template.data import *"
   ]
  },
  {
   "cell_type": "markdown",
   "metadata": {},
   "source": [
    "# City of Helsinki library item classification \n",
    "\n",
    "> Helsinki data scientist training program: automatic classification of library items. "
   ]
  },
  {
   "cell_type": "markdown",
   "metadata": {},
   "source": [
    "## About\n",
    "\n",
    "Helsinki City library has it's own [HKLJ-classification](https://finto.fi/hklj/en/) system, apart from general [YKL-classification](https://fi.wikipedia.org/wiki/Yleisten_kirjastojen_luokitusj%C3%A4rjestelm%C3%A4) system used by other cities. HKLJ-classification is done manually with the help of YKL-classification, other cities classification, keywords, language and other knowledge of librarian. The aim of this student project project is to study and try how the machine learning algorithms might solve the problem. With the help of machine learning algorithms we try to find automatically HKLJ-classification for new library items."
   ]
  },
  {
   "cell_type": "markdown",
   "metadata": {},
   "source": [
    "## Contents\n",
    "\n",
    "The project is in [github](https://github.com/jakezu/hki_lib_book_classification) and it uses public [Helsinki Machine Learning Template](https://city-of-helsinki.github.io/ml_project_template/). The core of the template consists of fours Jupyter-notebooks:\n",
    " 1. **00_data.ipynb** (load and clean the data)\n",
    " 2. **01_model.ipynb** (define and test machine learning model)\n",
    " 3. **02_loss.ipynb** (train and evaluate the model with the whole dataset)\n",
    " 4. **03_workflow.ipynb** (run all the templates and deploy the code)"
   ]
  },
  {
   "cell_type": "markdown",
   "metadata": {},
   "source": [
    "## How to Install\n",
    "\n",
    "Describe how to install your code. Be very through and include every single step of the process."
   ]
  },
  {
   "cell_type": "markdown",
   "metadata": {},
   "source": [
    "## How to Use / API\n",
    "\n",
    "Describe how to use your code. Give code examples."
   ]
  },
  {
   "cell_type": "markdown",
   "metadata": {},
   "source": [
    "## Update Plan\n",
    "\n",
    "How is your model and data kept up to date?"
   ]
  },
  {
   "cell_type": "markdown",
   "metadata": {},
   "source": [
    "## Ethical Aspects\n",
    "\n",
    "Can you recognize ethical issues with your ML project?\n",
    "\n",
    "Is there a risk for bias, discrimination, violation of privacy or conflict with the local or global laws?\n",
    "\n",
    "Could your results or algorithms be misused for malicious acts?\n",
    "\n",
    "Can data or model updates include bias in your model? \n",
    "\n",
    "How have you tackled these issues in your implementation?"
   ]
  },
  {
   "cell_type": "markdown",
   "metadata": {},
   "source": [
    "## Contributing\n",
    "\n",
    "> NOTE: Edit the hyperlink below to point to the CONTRIBUTING.md file of your repository\n",
    "\n",
    "See [here](https://github.com/City-of-Helsinki/ml_project_template/blob/master/CONTRIBUTING.md) on how to contribute to this project.\n"
   ]
  },
  {
   "cell_type": "markdown",
   "metadata": {},
   "source": [
    "## How to Cite this Work (optional)\n",
    "\n",
    "If you are doing a research project, you can add bibtex and other citation templates here.\n",
    "You can also get a doi for your code by adding it to a code archive,\n",
    "so your code can be cited directly!\n",
    "\n",
    "To cite this work, use:\n",
    "\n",
    "    @misc{authoryearfirstwordinheader,\n",
    "    title = ...\n",
    "    ...\n",
    "    }"
   ]
  },
  {
   "cell_type": "markdown",
   "metadata": {},
   "source": [
    "## Copyright\n",
    "\n",
    "> NOTE: Edit the year and author below according to your project!\n",
    "\n",
    "Copyright 2021 City-of-Helsinki. Licensed under the Apache License, Version 2.0 (the \"License\");\n",
    "you may not use this project's files except in compliance with the License.\n",
    "A copy of the License is provided in the LICENSE file in this repository.\n",
    "\n",
    "> NOTE: If you are using this template for other than city of Helsinki projects, remove the Helsinki logo files `favicon.ico` and `company_logo.png` from `docs/assets/images/`.\n",
    "\n",
    "    # to remove remove helsinki logo and favicon:\n",
    "    git rm docs/assets/images/favicon.ico docs/assets/images/company_logo.png\n",
    "    git commit -m \"removed Helsinki logo and favicon\"\n",
    "\n",
    "The Helsinki logo is a registered trademark, and may only be used by the city of Helsinki.\n",
    "\n",
    "This project was built using [nbdev](https://nbdev.fast.ai/) on top of the city of Helsinki [ml_project_template](https://github.com/City-of-Helsinki/ml_project_template)."
   ]
  }
 ],
 "metadata": {
  "kernelspec": {
   "display_name": "Python 3.8 (ml-sami-libclass)",
   "language": "python",
   "name": "ml-sami-libclass"
  }
 },
 "nbformat": 4,
 "nbformat_minor": 4
}
